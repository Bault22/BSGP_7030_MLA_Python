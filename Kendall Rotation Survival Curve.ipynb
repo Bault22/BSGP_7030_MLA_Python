{
 "cells": [
  {
   "cell_type": "code",
   "execution_count": 5,
   "id": "c32288e7-ab0c-45cd-abd0-8a8950570220",
   "metadata": {},
   "outputs": [
    {
     "ename": "ModuleNotFoundError",
     "evalue": "No module named 'lifelines'",
     "output_type": "error",
     "traceback": [
      "\u001b[0;31m---------------------------------------------------------------------------\u001b[0m",
      "\u001b[0;31mModuleNotFoundError\u001b[0m                       Traceback (most recent call last)",
      "Cell \u001b[0;32mIn[5], line 3\u001b[0m\n\u001b[1;32m      1\u001b[0m \u001b[38;5;66;03m# Import necessary libraries\u001b[39;00m\n\u001b[1;32m      2\u001b[0m \u001b[38;5;28;01mimport\u001b[39;00m \u001b[38;5;21;01mmatplotlib\u001b[39;00m\u001b[38;5;21;01m.\u001b[39;00m\u001b[38;5;21;01mpyplot\u001b[39;00m \u001b[38;5;28;01mas\u001b[39;00m \u001b[38;5;21;01mplt\u001b[39;00m\n\u001b[0;32m----> 3\u001b[0m \u001b[38;5;28;01mfrom\u001b[39;00m \u001b[38;5;21;01mlifelines\u001b[39;00m \u001b[38;5;28;01mimport\u001b[39;00m KaplanMeierFitter\n\u001b[1;32m      5\u001b[0m \u001b[38;5;66;03m# Example data: Survival times (hours) for three treatment groups\u001b[39;00m\n\u001b[1;32m      6\u001b[0m hours_Non_Injected_Control \u001b[38;5;241m=\u001b[39m [\u001b[38;5;241m6\u001b[39m, \u001b[38;5;241m9\u001b[39m, \u001b[38;5;241m24\u001b[39m]\n",
      "\u001b[0;31mModuleNotFoundError\u001b[0m: No module named 'lifelines'"
     ]
    }
   ],
   "source": [
    "# Import necessary libraries\n",
    "import matplotlib.pyplot as plt\n",
    "from lifelines import KaplanMeierFitter\n",
    "\n",
    "# Example data: Survival times (hours) for three treatment groups\n",
    "hours_Non_Injected_Control = [6, 9, 24]\n",
    "hours_PAX3_FOXO1_Injected = [6, 9, 24]\n",
    "hours_PAX7_FOXO1_Injected = [6, 9, 24]\n",
    "\n",
    "# Event occurrence (1 = death, 0 = censored)\n",
    "death_Non_Injected_Control = [0, 0, 0]\n",
    "death_PAX3_FOXO1_Injected = [3, 0, 3]\n",
    "death_PAX7_FOXO1_Injected = [0, 1, 9]\n",
    "\n",
    "# Initialize the Kaplan-Meier fitter\n",
    "kmf_Non_Injected_Control = KaplanMeierFitter()\n",
    "kmf_PAX3_FOXO1_Injected = KaplanMeierFitter()\n",
    "kmf_PAX7_FOXO1_Injected = KaplanMeierFitter()\n",
    "\n",
    "# Fit the data for each group\n",
    "kmf_Non_Injected_Control.fit(hours_Non_Injected_Control, event_observed=death_Non_Injected_Control, label='Non-Injected Control')\n",
    "kmf_PAX3_FOXO1_Injected.fit(hours_PAX3_FOXO1_Injected, event_observed=death_PAX3_FOXO1_Injected, label='PAX3::FOXO1 Injected')\n",
    "kmf_PAX7_FOXO1_Injected.fit(hours_PAX7_FOXO1_Injected, event_observed=death_PAX7_FOXO1_Injected, label='PAX7::FOXO1 Injected')\n",
    "\n",
    "# Plot the survival curves for all three treatments with colors\n",
    "plt.figure(figsize=(10, 6))\n",
    "kmf_Non_Injected_Control.plot_survival_function(ci_show=False, color=\"blue\")\n",
    "kmf_PAX3_FOXO1_Injected.plot_survival_function(ci_show=False, color=\"green\")\n",
    "kmf_PAX7_FOXO1_Injected.plot_survival_function(ci_show=False, color=\"red\")\n",
    "\n",
    "# Add plot title and labels\n",
    "plt.title('Kaplan-Meier Survival Curves for Embryos under Different Treatments', fontsize=14)\n",
    "plt.xlabel('Time (hours)', fontsize=12)\n",
    "plt.ylabel('Survival Probability', fontsize=12)\n",
    "\n",
    "# Display the plot\n",
    "plt.legend()\n",
    "plt.show()"
   ]
  },
  {
   "cell_type": "code",
   "execution_count": null,
   "id": "cdbf9812-904f-4215-8807-0d8bd4a73af8",
   "metadata": {},
   "outputs": [],
   "source": []
  }
 ],
 "metadata": {
  "kernelspec": {
   "display_name": "Python 3 (ipykernel)",
   "language": "python",
   "name": "python3"
  },
  "language_info": {
   "codemirror_mode": {
    "name": "ipython",
    "version": 3
   },
   "file_extension": ".py",
   "mimetype": "text/x-python",
   "name": "python",
   "nbconvert_exporter": "python",
   "pygments_lexer": "ipython3",
   "version": "3.9.20"
  }
 },
 "nbformat": 4,
 "nbformat_minor": 5
}
